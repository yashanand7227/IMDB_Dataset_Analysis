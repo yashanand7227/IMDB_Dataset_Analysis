{
 "cells": [
  {
   "cell_type": "code",
   "execution_count": 1,
   "id": "db2e725f",
   "metadata": {},
   "outputs": [
    {
     "name": "stderr",
     "output_type": "stream",
     "text": [
      "24/12/31 14:13:51 WARN GarbageCollectionMetrics: To enable non-built-in garbage collector(s) List(G1 Concurrent GC), users should configure it(them) to spark.eventLog.gcMetrics.youngGenerationGarbageCollectors or spark.eventLog.gcMetrics.oldGenerationGarbageCollectors\n"
     ]
    }
   ],
   "source": [
    "from pyspark.sql import SparkSession"
   ]
  },
  {
   "cell_type": "code",
   "execution_count": 2,
   "id": "19944132",
   "metadata": {},
   "outputs": [
    {
     "name": "stderr",
     "output_type": "stream",
     "text": [
      "24/12/31 14:14:50 WARN SparkSession: Using an existing Spark session; only runtime SQL configurations will take effect.\n"
     ]
    }
   ],
   "source": [
    "spark = SparkSession.builder.appName(\"IMDB_Analysis\").getOrCreate()"
   ]
  },
  {
   "cell_type": "code",
   "execution_count": 7,
   "id": "1b6b3388",
   "metadata": {},
   "outputs": [],
   "source": [
    "data_path = \"/home/yashanand7227/IMDB_Dataset\"\n",
    "title_basics_path = data_path + \"/title.basics.tsv.gz\"\n",
    "title_ratings_path = data_path + \"/title.ratings.tsv.gz\"\n",
    "title_crew_path = data_path + \"/title.crew.tsv.gz\"\n",
    "title_principals_path = data_path + \"/title.principals.tsv.gz\"\n"
   ]
  },
  {
   "cell_type": "code",
   "execution_count": 8,
   "id": "7c6ce08d",
   "metadata": {},
   "outputs": [
    {
     "name": "stderr",
     "output_type": "stream",
     "text": [
      "                                                                                \r"
     ]
    }
   ],
   "source": [
    "title_basics = spark.read.csv(title_basics_path, sep=\"\\t\", header=True, inferSchema=True)\n",
    "title_ratings = spark.read.csv(title_ratings_path, sep=\"\\t\", header=True, inferSchema=True)\n",
    "title_crew = spark.read.csv(title_crew_path, sep=\"\\t\", header=True, inferSchema=True)\n",
    "title_principals = spark.read.csv(title_principals_path, sep=\"\\t\", header=True, inferSchema=True)\n",
    "\n",
    "\n"
   ]
  },
  {
   "cell_type": "code",
   "execution_count": 9,
   "id": "da317c92",
   "metadata": {},
   "outputs": [
    {
     "name": "stdout",
     "output_type": "stream",
     "text": [
      "+---------+---------+--------------------+--------------------+-------+---------+-------+--------------+--------------------+\n",
      "|   tconst|titleType|        primaryTitle|       originalTitle|isAdult|startYear|endYear|runtimeMinutes|              genres|\n",
      "+---------+---------+--------------------+--------------------+-------+---------+-------+--------------+--------------------+\n",
      "|tt0000001|    short|          Carmencita|          Carmencita|      0|     1894|     \\N|             1|   Documentary,Short|\n",
      "|tt0000002|    short|Le clown et ses c...|Le clown et ses c...|      0|     1892|     \\N|             5|     Animation,Short|\n",
      "|tt0000003|    short|        Poor Pierrot|      Pauvre Pierrot|      0|     1892|     \\N|             5|Animation,Comedy,...|\n",
      "|tt0000004|    short|         Un bon bock|         Un bon bock|      0|     1892|     \\N|            12|     Animation,Short|\n",
      "|tt0000005|    short|    Blacksmith Scene|    Blacksmith Scene|      0|     1893|     \\N|             1|               Short|\n",
      "|tt0000006|    short|   Chinese Opium Den|   Chinese Opium Den|      0|     1894|     \\N|             1|               Short|\n",
      "|tt0000007|    short|Corbett and Court...|Corbett and Court...|      0|     1894|     \\N|             1|         Short,Sport|\n",
      "|tt0000008|    short|Edison Kinetoscop...|Edison Kinetoscop...|      0|     1894|     \\N|             1|   Documentary,Short|\n",
      "|tt0000009|    movie|          Miss Jerry|          Miss Jerry|      0|     1894|     \\N|            45|             Romance|\n",
      "|tt0000010|    short| Leaving the Factory|La sortie de l'us...|      0|     1895|     \\N|             1|   Documentary,Short|\n",
      "|tt0000011|    short|Akrobatisches Pot...|Akrobatisches Pot...|      0|     1895|     \\N|             1|   Documentary,Short|\n",
      "|tt0000012|    short|The Arrival of a ...|L'arrivée d'un tr...|      0|     1896|     \\N|             1|   Documentary,Short|\n",
      "|tt0000013|    short|The Photographica...|Le débarquement d...|      0|     1895|     \\N|             1|   Documentary,Short|\n",
      "|tt0000014|    short| The Waterer Watered|   L'arroseur arrosé|      0|     1895|     \\N|             1|        Comedy,Short|\n",
      "|tt0000015|    short|      Around a Cabin| Autour d'une cabine|      0|     1894|     \\N|             2|     Animation,Short|\n",
      "|tt0000016|    short|Boat Leaving the ...|Barque sortant du...|      0|     1895|     \\N|             1|   Documentary,Short|\n",
      "|tt0000017|    short|Italienischer Bau...|Italienischer Bau...|      0|     1895|     \\N|             1|   Documentary,Short|\n",
      "|tt0000018|    short|Das boxende Känguruh|Das boxende Känguruh|      0|     1895|     \\N|             1|               Short|\n",
      "|tt0000019|    short|    The Clown Barber|    The Clown Barber|      0|     1898|     \\N|            \\N|        Comedy,Short|\n",
      "|tt0000020|    short|      The Derby 1895|      The Derby 1895|      0|     1895|     \\N|             1|Documentary,Short...|\n",
      "+---------+---------+--------------------+--------------------+-------+---------+-------+--------------+--------------------+\n",
      "only showing top 20 rows\n",
      "\n",
      "+---------+-------------+--------+\n",
      "|   tconst|averageRating|numVotes|\n",
      "+---------+-------------+--------+\n",
      "|tt0000001|          5.7|    2113|\n",
      "|tt0000002|          5.6|     285|\n",
      "|tt0000003|          6.4|    2147|\n",
      "|tt0000004|          5.3|     183|\n",
      "|tt0000005|          6.2|    2870|\n",
      "|tt0000006|          5.0|     205|\n",
      "|tt0000007|          5.3|     897|\n",
      "|tt0000008|          5.4|    2262|\n",
      "|tt0000009|          5.4|     216|\n",
      "|tt0000010|          6.8|    7810|\n",
      "|tt0000011|          5.2|     407|\n",
      "|tt0000012|          7.4|   13258|\n",
      "|tt0000013|          5.7|    2036|\n",
      "|tt0000014|          7.1|    6040|\n",
      "|tt0000015|          6.1|    1244|\n",
      "|tt0000016|          5.9|    1637|\n",
      "|tt0000017|          4.6|     368|\n",
      "|tt0000018|          5.2|     651|\n",
      "|tt0000019|          5.2|      33|\n",
      "|tt0000020|          4.7|     407|\n",
      "+---------+-------------+--------+\n",
      "only showing top 20 rows\n",
      "\n",
      "+---------+-------------------+---------+\n",
      "|   tconst|          directors|  writers|\n",
      "+---------+-------------------+---------+\n",
      "|tt0000001|          nm0005690|       \\N|\n",
      "|tt0000002|          nm0721526|       \\N|\n",
      "|tt0000003|          nm0721526|       \\N|\n",
      "|tt0000004|          nm0721526|       \\N|\n",
      "|tt0000005|          nm0005690|       \\N|\n",
      "|tt0000006|          nm0005690|       \\N|\n",
      "|tt0000007|nm0005690,nm0374658|       \\N|\n",
      "|tt0000008|          nm0005690|       \\N|\n",
      "|tt0000009|          nm0085156|nm0085156|\n",
      "|tt0000010|          nm0525910|       \\N|\n",
      "|tt0000011|          nm0804434|       \\N|\n",
      "|tt0000012|nm0525908,nm0525910|       \\N|\n",
      "|tt0000013|          nm0525910|       \\N|\n",
      "|tt0000014|          nm0525910|       \\N|\n",
      "|tt0000015|          nm0721526|       \\N|\n",
      "|tt0000016|          nm0525910|       \\N|\n",
      "|tt0000017|nm1587194,nm0804434|       \\N|\n",
      "|tt0000018|          nm0804434|       \\N|\n",
      "|tt0000019|          nm0932055|       \\N|\n",
      "|tt0000020|          nm0010291|       \\N|\n",
      "+---------+-------------------+---------+\n",
      "only showing top 20 rows\n",
      "\n",
      "+---------+--------+---------+---------------+--------------------+--------------+\n",
      "|   tconst|ordering|   nconst|       category|                 job|    characters|\n",
      "+---------+--------+---------+---------------+--------------------+--------------+\n",
      "|tt0000001|       1|nm1588970|           self|                  \\N|      [\"Self\"]|\n",
      "|tt0000001|       2|nm0005690|       director|                  \\N|            \\N|\n",
      "|tt0000001|       3|nm0005690|       producer|            producer|            \\N|\n",
      "|tt0000001|       4|nm0374658|cinematographer|director of photo...|            \\N|\n",
      "|tt0000002|       1|nm0721526|       director|                  \\N|            \\N|\n",
      "|tt0000002|       2|nm1335271|       composer|                  \\N|            \\N|\n",
      "|tt0000003|       1|nm0721526|       director|                  \\N|            \\N|\n",
      "|tt0000003|       2|nm1770680|       producer|            producer|            \\N|\n",
      "|tt0000003|       3|nm0721526|       producer|            producer|            \\N|\n",
      "|tt0000003|       4|nm1335271|       composer|                  \\N|            \\N|\n",
      "|tt0000003|       5|nm5442200|         editor|              editor|            \\N|\n",
      "|tt0000004|       1|nm0721526|       director|                  \\N|            \\N|\n",
      "|tt0000004|       2|nm1335271|       composer|                  \\N|            \\N|\n",
      "|tt0000005|       1|nm0443482|          actor|                  \\N|[\"Blacksmith\"]|\n",
      "|tt0000005|       2|nm0653042|          actor|                  \\N| [\"Assistant\"]|\n",
      "|tt0000005|       3|nm0249379|       producer|            producer|            \\N|\n",
      "|tt0000007|       1|nm0179163|          actor|                  \\N|            \\N|\n",
      "|tt0000007|       2|nm0183947|          actor|                  \\N|            \\N|\n",
      "|tt0000007|       3|nm0005690|       director|                  \\N|            \\N|\n",
      "|tt0000007|       4|nm0374658|       director|                  \\N|            \\N|\n",
      "+---------+--------+---------+---------------+--------------------+--------------+\n",
      "only showing top 20 rows\n",
      "\n"
     ]
    }
   ],
   "source": [
    "title_basics.show()\n",
    "title_ratings.show()\n",
    "title_crew.show()\n",
    "title_principals.show()"
   ]
  },
  {
   "cell_type": "code",
   "execution_count": 6,
   "id": "d0e4d909",
   "metadata": {},
   "outputs": [
    {
     "name": "stderr",
     "output_type": "stream",
     "text": [
      "                                                                                \r"
     ]
    },
    {
     "data": {
      "text/plain": [
       "11338004"
      ]
     },
     "execution_count": 6,
     "metadata": {},
     "output_type": "execute_result"
    }
   ],
   "source": [
    "title_basics.count()"
   ]
  },
  {
   "cell_type": "code",
   "execution_count": 12,
   "id": "21a91a41",
   "metadata": {},
   "outputs": [],
   "source": [
    "from pyspark.sql.functions import col\n",
    "title_basics = title_basics.replace(\"\\\\N\", None)"
   ]
  },
  {
   "cell_type": "code",
   "execution_count": 13,
   "id": "395c6081",
   "metadata": {},
   "outputs": [
    {
     "name": "stdout",
     "output_type": "stream",
     "text": [
      "+---------+---------+--------------------+--------------------+-------+---------+-------+--------------+--------------------+\n",
      "|   tconst|titleType|        primaryTitle|       originalTitle|isAdult|startYear|endYear|runtimeMinutes|              genres|\n",
      "+---------+---------+--------------------+--------------------+-------+---------+-------+--------------+--------------------+\n",
      "|tt0000001|    short|          Carmencita|          Carmencita|      0|     1894|   NULL|             1|   Documentary,Short|\n",
      "|tt0000002|    short|Le clown et ses c...|Le clown et ses c...|      0|     1892|   NULL|             5|     Animation,Short|\n",
      "|tt0000003|    short|        Poor Pierrot|      Pauvre Pierrot|      0|     1892|   NULL|             5|Animation,Comedy,...|\n",
      "|tt0000004|    short|         Un bon bock|         Un bon bock|      0|     1892|   NULL|            12|     Animation,Short|\n",
      "|tt0000005|    short|    Blacksmith Scene|    Blacksmith Scene|      0|     1893|   NULL|             1|               Short|\n",
      "|tt0000006|    short|   Chinese Opium Den|   Chinese Opium Den|      0|     1894|   NULL|             1|               Short|\n",
      "|tt0000007|    short|Corbett and Court...|Corbett and Court...|      0|     1894|   NULL|             1|         Short,Sport|\n",
      "|tt0000008|    short|Edison Kinetoscop...|Edison Kinetoscop...|      0|     1894|   NULL|             1|   Documentary,Short|\n",
      "|tt0000009|    movie|          Miss Jerry|          Miss Jerry|      0|     1894|   NULL|            45|             Romance|\n",
      "|tt0000010|    short| Leaving the Factory|La sortie de l'us...|      0|     1895|   NULL|             1|   Documentary,Short|\n",
      "+---------+---------+--------------------+--------------------+-------+---------+-------+--------------+--------------------+\n",
      "only showing top 10 rows\n",
      "\n"
     ]
    }
   ],
   "source": [
    "title_basics.show(10)"
   ]
  },
  {
   "cell_type": "code",
   "execution_count": 14,
   "id": "00909427",
   "metadata": {},
   "outputs": [],
   "source": [
    "    title_basics = title_basics.dropna(subset=[\"titleType\", \"startYear\"])"
   ]
  },
  {
   "cell_type": "code",
   "execution_count": 15,
   "id": "b668c4b5",
   "metadata": {},
   "outputs": [
    {
     "name": "stderr",
     "output_type": "stream",
     "text": [
      "                                                                                \r"
     ]
    },
    {
     "data": {
      "text/plain": [
       "9919523"
      ]
     },
     "execution_count": 15,
     "metadata": {},
     "output_type": "execute_result"
    }
   ],
   "source": [
    "title_basics.count()"
   ]
  },
  {
   "cell_type": "code",
   "execution_count": 22,
   "id": "5968848c",
   "metadata": {},
   "outputs": [
    {
     "name": "stderr",
     "output_type": "stream",
     "text": [
      "                                                                                \r"
     ]
    },
    {
     "name": "stdout",
     "output_type": "stream",
     "text": [
      "+------------+\n",
      "|   titleType|\n",
      "+------------+\n",
      "|    tvSeries|\n",
      "|tvMiniSeries|\n",
      "|     tvMovie|\n",
      "|     tvPilot|\n",
      "|   tvEpisode|\n",
      "|       movie|\n",
      "|   tvSpecial|\n",
      "|       video|\n",
      "|   videoGame|\n",
      "|     tvShort|\n",
      "|       short|\n",
      "+------------+\n",
      "\n"
     ]
    },
    {
     "name": "stderr",
     "output_type": "stream",
     "text": [
      "\r",
      "[Stage 35:>                                                         (0 + 1) / 1]\r"
     ]
    },
    {
     "name": "stdout",
     "output_type": "stream",
     "text": [
      "+-------+\n",
      "|isAdult|\n",
      "+-------+\n",
      "|      0|\n",
      "|      1|\n",
      "+-------+\n",
      "\n"
     ]
    },
    {
     "name": "stderr",
     "output_type": "stream",
     "text": [
      "\r",
      "                                                                                \r"
     ]
    }
   ],
   "source": [
    "title_types = title_basics.select(\"titleType\").distinct()\n",
    "is_adult_types = title_basics.select(\"isAdult\").distinct()\n",
    "title_types.show()\n",
    "is_adult_types.show()"
   ]
  },
  {
   "cell_type": "code",
   "execution_count": 17,
   "id": "ed688b56",
   "metadata": {},
   "outputs": [],
   "source": [
    "tv_movies = title_basics.filter(col(\"titleType\")==\"tvMovie\")"
   ]
  },
  {
   "cell_type": "code",
   "execution_count": 18,
   "id": "1818456e",
   "metadata": {},
   "outputs": [
    {
     "name": "stderr",
     "output_type": "stream",
     "text": [
      "                                                                                \r"
     ]
    },
    {
     "data": {
      "text/plain": [
       "145244"
      ]
     },
     "execution_count": 18,
     "metadata": {},
     "output_type": "execute_result"
    }
   ],
   "source": [
    "tv_movies.count()"
   ]
  },
  {
   "cell_type": "code",
   "execution_count": 19,
   "id": "8f2f76ed",
   "metadata": {},
   "outputs": [
    {
     "name": "stdout",
     "output_type": "stream",
     "text": [
      "+---------+---------+--------------------+--------------------+-------+---------+-------+--------------+-------------+\n",
      "|   tconst|titleType|        primaryTitle|       originalTitle|isAdult|startYear|endYear|runtimeMinutes|       genres|\n",
      "+---------+---------+--------------------+--------------------+-------+---------+-------+--------------+-------------+\n",
      "|tt0030298|  tvMovie|       Julius Caesar|       Julius Caesar|      0|     1938|   NULL|           101|Drama,History|\n",
      "|tt0038309|  tvMovie|      As You Like It|      As You Like It|      0|     1946|   NULL|          NULL|        Drama|\n",
      "|tt0038738|  tvMovie|A Midsummer Night...|A Midsummer Night...|      0|     1946|   NULL|           150|Drama,Fantasy|\n",
      "|tt0039445|  tvMovie|       Hamlet Part 1|       Hamlet Part 1|      0|     1947|   NULL|            88|        Drama|\n",
      "|tt0039618|  tvMovie|The Merchant of V...|The Merchant of V...|      0|     1947|   NULL|            90|        Drama|\n",
      "|tt0039624|  tvMovie|A Midsummer Night...|A Midsummer Night...|      0|     1947|   NULL|          NULL|      Fantasy|\n",
      "|tt0040060|  tvMovie|      Wit and Wisdom|      Wit and Wisdom|      0|     1948|   NULL|            45|       Comedy|\n",
      "|tt0040510|  tvMovie|The Tragedy of Ki...|The Tragedy of Ki...|      0|     1948|   NULL|           108|        Drama|\n",
      "|tt0041533|  tvMovie|       Julius Caesar|       Julius Caesar|      0|     1949|   NULL|          NULL|Drama,History|\n",
      "|tt0041614|  tvMovie|             Macbeth|             Macbeth|      0|     1949|   NULL|           120|        Drama|\n",
      "+---------+---------+--------------------+--------------------+-------+---------+-------+--------------+-------------+\n",
      "only showing top 10 rows\n",
      "\n"
     ]
    }
   ],
   "source": [
    "tv_movies.show(10)"
   ]
  },
  {
   "cell_type": "code",
   "execution_count": 20,
   "id": "66681d6e",
   "metadata": {},
   "outputs": [],
   "source": [
    "title_type_counts = title_basics.groupBy(\"titleType\").count()"
   ]
  },
  {
   "cell_type": "code",
   "execution_count": 21,
   "id": "1a40ca22",
   "metadata": {},
   "outputs": [
    {
     "name": "stderr",
     "output_type": "stream",
     "text": [
      "\r",
      "[Stage 29:>                                                         (0 + 1) / 1]\r"
     ]
    },
    {
     "name": "stdout",
     "output_type": "stream",
     "text": [
      "+------------+-------+\n",
      "|   titleType|  count|\n",
      "+------------+-------+\n",
      "|    tvSeries| 252102|\n",
      "|tvMiniSeries|  54625|\n",
      "|     tvMovie| 145244|\n",
      "|     tvPilot|      1|\n",
      "|   tvEpisode|7468624|\n",
      "|       movie| 599739|\n",
      "|   tvSpecial|  50349|\n",
      "|       video| 301371|\n",
      "|   videoGame|  40292|\n",
      "|     tvShort|  10391|\n",
      "|       short| 996785|\n",
      "+------------+-------+\n",
      "\n"
     ]
    },
    {
     "name": "stderr",
     "output_type": "stream",
     "text": [
      "\r",
      "                                                                                \r"
     ]
    }
   ],
   "source": [
    "title_type_counts.show()"
   ]
  },
  {
   "cell_type": "code",
   "execution_count": 25,
   "id": "b82f7a89",
   "metadata": {},
   "outputs": [
    {
     "name": "stderr",
     "output_type": "stream",
     "text": [
      "\r",
      "[Stage 38:>                                                         (0 + 1) / 1]\r"
     ]
    },
    {
     "name": "stdout",
     "output_type": "stream",
     "text": [
      "+--------------+\n",
      "|min(startYear)|\n",
      "+--------------+\n",
      "|          1874|\n",
      "+--------------+\n",
      "\n"
     ]
    },
    {
     "name": "stderr",
     "output_type": "stream",
     "text": [
      "\r",
      "                                                                                \r"
     ]
    }
   ],
   "source": [
    "from pyspark.sql.functions import min\n",
    "earliest_year = title_basics.select(min(\"startYear\"))\n",
    "earliest_year.show()"
   ]
  },
  {
   "cell_type": "code",
   "execution_count": 27,
   "id": "bf2c8cad",
   "metadata": {},
   "outputs": [
    {
     "name": "stderr",
     "output_type": "stream",
     "text": [
      "                                                                                \r"
     ]
    },
    {
     "data": {
      "text/plain": [
       "9919523"
      ]
     },
     "execution_count": 27,
     "metadata": {},
     "output_type": "execute_result"
    }
   ],
   "source": [
    "title_basics = title_basics.filter(col(\"startYear\").isNotNull())\n",
    "title_basics.count()"
   ]
  },
  {
   "cell_type": "code",
   "execution_count": 36,
   "id": "4a8b1a02",
   "metadata": {},
   "outputs": [
    {
     "name": "stderr",
     "output_type": "stream",
     "text": [
      "24/12/31 15:50:39 WARN RowBasedKeyValueBatch: Calling spill() on RowBasedKeyValueBatch. Will not spill but return 0.\n",
      "24/12/31 15:50:47 WARN RowBasedKeyValueBatch: Calling spill() on RowBasedKeyValueBatch. Will not spill but return 0.\n",
      "24/12/31 15:50:57 WARN RowBasedKeyValueBatch: Calling spill() on RowBasedKeyValueBatch. Will not spill but return 0.\n",
      "24/12/31 15:50:57 WARN RowBasedKeyValueBatch: Calling spill() on RowBasedKeyValueBatch. Will not spill but return 0.\n",
      "24/12/31 15:50:57 WARN RowBasedKeyValueBatch: Calling spill() on RowBasedKeyValueBatch. Will not spill but return 0.\n",
      "24/12/31 15:50:57 WARN RowBasedKeyValueBatch: Calling spill() on RowBasedKeyValueBatch. Will not spill but return 0.\n",
      "24/12/31 15:50:57 WARN RowBasedKeyValueBatch: Calling spill() on RowBasedKeyValueBatch. Will not spill but return 0.\n",
      "24/12/31 15:50:57 WARN RowBasedKeyValueBatch: Calling spill() on RowBasedKeyValueBatch. Will not spill but return 0.\n",
      "24/12/31 15:50:57 WARN RowBasedKeyValueBatch: Calling spill() on RowBasedKeyValueBatch. Will not spill but return 0.\n",
      "24/12/31 15:50:57 WARN RowBasedKeyValueBatch: Calling spill() on RowBasedKeyValueBatch. Will not spill but return 0.\n",
      "24/12/31 15:50:57 WARN RowBasedKeyValueBatch: Calling spill() on RowBasedKeyValueBatch. Will not spill but return 0.\n",
      "24/12/31 15:50:58 WARN RowBasedKeyValueBatch: Calling spill() on RowBasedKeyValueBatch. Will not spill but return 0.\n",
      "24/12/31 15:50:58 WARN RowBasedKeyValueBatch: Calling spill() on RowBasedKeyValueBatch. Will not spill but return 0.\n",
      "24/12/31 15:50:58 WARN RowBasedKeyValueBatch: Calling spill() on RowBasedKeyValueBatch. Will not spill but return 0.\n",
      "24/12/31 15:50:58 WARN RowBasedKeyValueBatch: Calling spill() on RowBasedKeyValueBatch. Will not spill but return 0.\n",
      "24/12/31 15:50:58 WARN RowBasedKeyValueBatch: Calling spill() on RowBasedKeyValueBatch. Will not spill but return 0.\n",
      "24/12/31 15:50:58 WARN RowBasedKeyValueBatch: Calling spill() on RowBasedKeyValueBatch. Will not spill but return 0.\n",
      "24/12/31 15:50:58 WARN RowBasedKeyValueBatch: Calling spill() on RowBasedKeyValueBatch. Will not spill but return 0.\n",
      "                                                                                \r"
     ]
    },
    {
     "data": {
      "text/plain": [
       "9919523"
      ]
     },
     "execution_count": 36,
     "metadata": {},
     "output_type": "execute_result"
    }
   ],
   "source": [
    "title_basics = title_basics.dropDuplicates([\"tconst\"])\n",
    "title_basics.count()"
   ]
  },
  {
   "cell_type": "code",
   "execution_count": 37,
   "id": "8f54bd48",
   "metadata": {},
   "outputs": [
    {
     "data": {
      "text/plain": [
       "1517433"
      ]
     },
     "execution_count": 37,
     "metadata": {},
     "output_type": "execute_result"
    }
   ],
   "source": [
    "title_ratings.count()"
   ]
  },
  {
   "cell_type": "code",
   "execution_count": 38,
   "id": "f815cb92",
   "metadata": {},
   "outputs": [
    {
     "name": "stderr",
     "output_type": "stream",
     "text": [
      "                                                                                \r"
     ]
    },
    {
     "data": {
      "text/plain": [
       "1517433"
      ]
     },
     "execution_count": 38,
     "metadata": {},
     "output_type": "execute_result"
    }
   ],
   "source": [
    "title_ratings = title_ratings.dropDuplicates([\"tconst\"])\n",
    "title_ratings.count()"
   ]
  },
  {
   "cell_type": "code",
   "execution_count": 28,
   "id": "34661e30",
   "metadata": {},
   "outputs": [],
   "source": [
    "movies = title_basics.filter(col(\"titleType\")=='movie')"
   ]
  },
  {
   "cell_type": "code",
   "execution_count": 29,
   "id": "98147be8",
   "metadata": {},
   "outputs": [
    {
     "name": "stderr",
     "output_type": "stream",
     "text": [
      "                                                                                \r"
     ]
    },
    {
     "data": {
      "text/plain": [
       "599739"
      ]
     },
     "execution_count": 29,
     "metadata": {},
     "output_type": "execute_result"
    }
   ],
   "source": [
    "movies.count()"
   ]
  },
  {
   "cell_type": "code",
   "execution_count": 30,
   "id": "a22604f4",
   "metadata": {},
   "outputs": [],
   "source": [
    "movies = movies.select(\"tconst\", \"primaryTitle\", \"isAdult\", \"startyear\", \"runtimeMinutes\", \"genres\")"
   ]
  },
  {
   "cell_type": "code",
   "execution_count": 35,
   "id": "9c0d946d",
   "metadata": {},
   "outputs": [
    {
     "name": "stderr",
     "output_type": "stream",
     "text": [
      "                                                                                \r"
     ]
    },
    {
     "data": {
      "text/plain": [
       "599739"
      ]
     },
     "execution_count": 35,
     "metadata": {},
     "output_type": "execute_result"
    }
   ],
   "source": [
    "movies.count()"
   ]
  },
  {
   "cell_type": "code",
   "execution_count": 32,
   "id": "8855815a",
   "metadata": {},
   "outputs": [],
   "source": [
    "movies_with_ratings = movies.join(title_ratings, on='tconst', how='inner')"
   ]
  },
  {
   "cell_type": "code",
   "execution_count": 33,
   "id": "0d2ad186",
   "metadata": {},
   "outputs": [
    {
     "name": "stderr",
     "output_type": "stream",
     "text": [
      "                                                                                \r"
     ]
    },
    {
     "name": "stdout",
     "output_type": "stream",
     "text": [
      "+---------+--------------------+-------+---------+--------------+--------------------+-------------+--------+\n",
      "|   tconst|        primaryTitle|isAdult|startyear|runtimeMinutes|              genres|averageRating|numVotes|\n",
      "+---------+--------------------+-------+---------+--------------+--------------------+-------------+--------+\n",
      "|tt0000009|          Miss Jerry|      0|     1894|            45|             Romance|          5.4|     216|\n",
      "|tt0000147|The Corbett-Fitzs...|      0|     1897|           100|Documentary,News,...|          5.2|     544|\n",
      "|tt0000502|            Bohemios|      0|     1905|           100|                NULL|          4.4|      18|\n",
      "|tt0000574|The Story of the ...|      0|     1906|            70|Action,Adventure,...|          6.0|     952|\n",
      "|tt0000591|    The Prodigal Son|      0|     1907|            90|               Drama|          5.7|      29|\n",
      "|tt0000615|  Robbery Under Arms|      0|     1907|          NULL|               Drama|          4.3|      27|\n",
      "|tt0000630|              Hamlet|      0|     1908|          NULL|               Drama|          3.1|      30|\n",
      "|tt0000675|         Don Quijote|      0|     1908|          NULL|               Drama|          4.2|      22|\n",
      "|tt0000679|The Fairylogue an...|      0|     1908|           120|   Adventure,Fantasy|          5.2|      78|\n",
      "|tt0000862|          Faldgruben|      0|     1909|          NULL|                NULL|          4.4|      18|\n",
      "|tt0000886|Hamlet, Prince of...|      0|     1910|          NULL|               Drama|          4.5|      39|\n",
      "|tt0000941|      Locura de amor|      0|     1909|            45|               Drama|          4.6|      29|\n",
      "|tt0001010|Protección de un ...|      0|     1909|          NULL|                NULL|          4.2|      16|\n",
      "|tt0001028|          Salome Mad|      0|     1909|          NULL|              Comedy|          3.8|      23|\n",
      "|tt0001038|  Sherlock Holmes VI|      0|     1910|          NULL|                NULL|          3.1|      22|\n",
      "|tt0001049|      Gøngehøvdingen|      0|     1909|          NULL|           Drama,War|          4.2|      19|\n",
      "|tt0001101|Abraham Lincoln's...|      0|     1910|          NULL|                NULL|          4.8|      40|\n",
      "|tt0001112|              Hamlet|      0|     1910|          NULL|               Drama|          3.8|      50|\n",
      "|tt0001113|         Amor gitano|      0|     1910|          NULL|                NULL|          4.8|      18|\n",
      "|tt0001115|       Ansigttyven I|      0|     1910|          NULL|               Crime|          3.9|      20|\n",
      "+---------+--------------------+-------+---------+--------------+--------------------+-------------+--------+\n",
      "only showing top 20 rows\n",
      "\n"
     ]
    }
   ],
   "source": [
    "movies_with_ratings.show()"
   ]
  },
  {
   "cell_type": "code",
   "execution_count": 34,
   "id": "f345f955",
   "metadata": {},
   "outputs": [
    {
     "name": "stderr",
     "output_type": "stream",
     "text": [
      "                                                                                \r"
     ]
    },
    {
     "data": {
      "text/plain": [
       "322777"
      ]
     },
     "execution_count": 34,
     "metadata": {},
     "output_type": "execute_result"
    }
   ],
   "source": [
    "movies_with_ratings.count()"
   ]
  },
  {
   "cell_type": "markdown",
   "id": "dad47529",
   "metadata": {},
   "source": [
    "Top 10 Highest Rated Movies\n"
   ]
  },
  {
   "cell_type": "code",
   "execution_count": 40,
   "id": "13ce4667",
   "metadata": {},
   "outputs": [
    {
     "name": "stderr",
     "output_type": "stream",
     "text": [
      "[Stage 75:>                                                         (0 + 1) / 1]\r"
     ]
    },
    {
     "name": "stdout",
     "output_type": "stream",
     "text": [
      "+---------+--------------------+-------+---------+--------------+--------------------+-------------+--------+\n",
      "|   tconst|        primaryTitle|isAdult|startyear|runtimeMinutes|              genres|averageRating|numVotes|\n",
      "+---------+--------------------+-------+---------+--------------+--------------------+-------------+--------+\n",
      "|tt0111161|The Shawshank Red...|      0|     1994|           142|               Drama|          9.3| 2983880|\n",
      "|tt0468569|     The Dark Knight|      0|     2008|           152|  Action,Crime,Drama|          9.0| 2964230|\n",
      "|tt1375666|           Inception|      0|     2010|           148|Action,Adventure,...|          8.8| 2631192|\n",
      "|tt0137523|          Fight Club|      0|     1999|           139|               Drama|          8.8| 2411870|\n",
      "|tt0109830|        Forrest Gump|      0|     1994|           142|       Drama,Romance|          8.8| 2334889|\n",
      "|tt0110912|        Pulp Fiction|      0|     1994|           154|         Crime,Drama|          8.9| 2289900|\n",
      "|tt0816692|        Interstellar|      0|     2014|           169|Adventure,Drama,S...|          8.7| 2237674|\n",
      "|tt0133093|          The Matrix|      0|     1999|           136|       Action,Sci-Fi|          8.7| 2116923|\n",
      "|tt0068646|       The Godfather|      0|     1972|           175|         Crime,Drama|          9.2| 2082028|\n",
      "|tt0120737|The Lord of the R...|      0|     2001|           178|Adventure,Drama,F...|          8.9| 2071473|\n",
      "+---------+--------------------+-------+---------+--------------+--------------------+-------------+--------+\n",
      "only showing top 10 rows\n",
      "\n"
     ]
    },
    {
     "name": "stderr",
     "output_type": "stream",
     "text": [
      "\r",
      "                                                                                \r"
     ]
    }
   ],
   "source": [
    "movies_with_ratings.orderBy(col(\"numVotes\").desc()).show(10)"
   ]
  },
  {
   "cell_type": "markdown",
   "id": "3110ddfc",
   "metadata": {},
   "source": [
    "Top 10 Lowest Rated Movies"
   ]
  },
  {
   "cell_type": "code",
   "execution_count": 42,
   "id": "afb376f8",
   "metadata": {},
   "outputs": [
    {
     "name": "stderr",
     "output_type": "stream",
     "text": [
      "[Stage 77:>                                                         (0 + 1) / 1]\r"
     ]
    },
    {
     "name": "stdout",
     "output_type": "stream",
     "text": [
      "+----------+--------------------+-------+---------+--------------+--------------------+-------------+--------+\n",
      "|    tconst|        primaryTitle|isAdult|startyear|runtimeMinutes|              genres|averageRating|numVotes|\n",
      "+----------+--------------------+-------+---------+--------------+--------------------+-------------+--------+\n",
      "| tt5988370|                Reis|      0|     2017|           108|     Biography,Drama|          1.0|   74202|\n",
      "| tt7221896|        Cumali Ceber|      0|     2017|           100|              Comedy|          1.0|   39499|\n",
      "|tt13423846|          321 Action|      0|     2020|           100|               Drama|          1.0|   10225|\n",
      "|tt13788842|2025 - The World ...|      0|     2021|            92|    Adventure,Sci-Fi|          1.0|    2638|\n",
      "| tt1753912|Holnap történt - ...|      0|     2009|            82|Comedy,Crime,Mystery|          1.0|     976|\n",
      "|tt15443254|    Cumali Ceber 666|      0|     2022|            82|              Comedy|          1.0|     910|\n",
      "|tt11529726|             Laz Kit|      0|     2020|           107|              Comedy|          1.0|     885|\n",
      "| tt4986830|Chun jie xin ling...|      0|     2015|            96|        Comedy,Drama|          1.0|     751|\n",
      "|tt21482070|Harry & Meghan: A...|      0|     2022|            56|         Documentary|          1.0|     585|\n",
      "|tt24853192|Meghan Markle: Un...|      0|     2023|            43|         Documentary|          1.0|     228|\n",
      "+----------+--------------------+-------+---------+--------------+--------------------+-------------+--------+\n",
      "only showing top 10 rows\n",
      "\n"
     ]
    },
    {
     "name": "stderr",
     "output_type": "stream",
     "text": [
      "\r",
      "                                                                                \r"
     ]
    }
   ],
   "source": [
    "movies_with_ratings.orderBy([col(\"averageRating\"), col(\"numVotes\")], ascending=[True, False]).show(10)"
   ]
  },
  {
   "cell_type": "markdown",
   "id": "95d58a50",
   "metadata": {},
   "source": [
    "Most Popular Genres"
   ]
  },
  {
   "cell_type": "code",
   "execution_count": 45,
   "id": "a8c7fc95",
   "metadata": {},
   "outputs": [],
   "source": [
    "from pyspark.sql.functions import explode, split"
   ]
  },
  {
   "cell_type": "code",
   "execution_count": 52,
   "id": "46e33d0b",
   "metadata": {},
   "outputs": [
    {
     "name": "stderr",
     "output_type": "stream",
     "text": [
      "[Stage 99:>                                                         (0 + 1) / 1]\r"
     ]
    },
    {
     "name": "stdout",
     "output_type": "stream",
     "text": [
      "+-----------+------+\n",
      "|      genre| count|\n",
      "+-----------+------+\n",
      "|      Drama|144041|\n",
      "|     Comedy| 78063|\n",
      "|Documentary| 51294|\n",
      "|    Romance| 35516|\n",
      "|     Action| 32857|\n",
      "|      Crime| 27841|\n",
      "|   Thriller| 27112|\n",
      "|     Horror| 24466|\n",
      "|  Adventure| 19550|\n",
      "|    Mystery| 12808|\n",
      "+-----------+------+\n",
      "only showing top 10 rows\n",
      "\n"
     ]
    },
    {
     "name": "stderr",
     "output_type": "stream",
     "text": [
      "\r",
      "                                                                                \r"
     ]
    }
   ],
   "source": [
    "movies_split = movies_with_ratings.withColumn(\"genre_array\", split(col(\"genres\"),\",\"))\n",
    "movies_exploded = movies_split.withColumn(\"genre\", explode(col(\"genre_array\")))\n",
    "movies_exploded.groupBy(col(\"genre\")).count().orderBy(col(\"count\").desc()).show(10)"
   ]
  },
  {
   "cell_type": "markdown",
   "id": "d2349a1f",
   "metadata": {},
   "source": [
    "Number of Movies in each year"
   ]
  },
  {
   "cell_type": "code",
   "execution_count": 61,
   "id": "abe000cb",
   "metadata": {},
   "outputs": [
    {
     "name": "stderr",
     "output_type": "stream",
     "text": [
      "[Stage 113:>                                                        (0 + 1) / 1]\r"
     ]
    },
    {
     "name": "stdout",
     "output_type": "stream",
     "text": [
      "+----+-------------+\n",
      "|Year|Num_of_movies|\n",
      "+----+-------------+\n",
      "|2022|        10983|\n",
      "|2019|        10819|\n",
      "|2023|        10736|\n",
      "|2018|        10719|\n",
      "|2017|        10567|\n",
      "|2016|        10051|\n",
      "|2015|         9649|\n",
      "|2021|         9426|\n",
      "|2014|         9400|\n",
      "|2020|         8776|\n",
      "+----+-------------+\n",
      "only showing top 10 rows\n",
      "\n"
     ]
    },
    {
     "name": "stderr",
     "output_type": "stream",
     "text": [
      "\r",
      "                                                                                \r"
     ]
    }
   ],
   "source": [
    "movies_with_ratings.groupBy(\"startYear\") \\\n",
    "    .count() \\\n",
    "    .withColumnRenamed(\"startYear\", \"Year\") \\\n",
    "    .withColumnRenamed(\"count\", \"Num_of_movies\") \\\n",
    "    .orderBy(col(\"Num_of_movies\").desc()) \\\n",
    "    .show(10)\n"
   ]
  },
  {
   "cell_type": "markdown",
   "id": "4d3c4c7d",
   "metadata": {},
   "source": [
    "Highest Rated Film on IMDB 2023"
   ]
  },
  {
   "cell_type": "code",
   "execution_count": 62,
   "id": "3e258b02",
   "metadata": {},
   "outputs": [
    {
     "name": "stderr",
     "output_type": "stream",
     "text": [
      "                                                                                \r"
     ]
    }
   ],
   "source": [
    "movies_with_ratings.write.parquet(\"movies_with_ratings.parquet\")\n"
   ]
  },
  {
   "cell_type": "code",
   "execution_count": 63,
   "id": "f8ac733c",
   "metadata": {},
   "outputs": [],
   "source": [
    "spark.stop()"
   ]
  },
  {
   "cell_type": "code",
   "execution_count": 2,
   "id": "9613ca98",
   "metadata": {},
   "outputs": [],
   "source": [
    "from pyspark.sql import SparkSession"
   ]
  },
  {
   "cell_type": "code",
   "execution_count": 3,
   "id": "1b912e46",
   "metadata": {},
   "outputs": [
    {
     "name": "stderr",
     "output_type": "stream",
     "text": [
      "25/01/17 11:21:21 WARN SparkSession: Using an existing Spark session; only runtime SQL configurations will take effect.\n"
     ]
    }
   ],
   "source": [
    "spark = SparkSession.builder \\\n",
    "                    .appName(\"ResumeAnalysis\") \\\n",
    "                    .getOrCreate()"
   ]
  },
  {
   "cell_type": "code",
   "execution_count": 4,
   "id": "14fa6596",
   "metadata": {},
   "outputs": [
    {
     "name": "stderr",
     "output_type": "stream",
     "text": [
      "                                                                                \r"
     ]
    }
   ],
   "source": [
    "movies_with_ratings = spark.read.parquet(\"movies_with_ratings.parquet\")"
   ]
  },
  {
   "cell_type": "code",
   "execution_count": 5,
   "id": "167415b0",
   "metadata": {},
   "outputs": [
    {
     "name": "stdout",
     "output_type": "stream",
     "text": [
      "+---------+--------------------+-------+---------+--------------+--------------------+-------------+--------+\n",
      "|   tconst|        primaryTitle|isAdult|startyear|runtimeMinutes|              genres|averageRating|numVotes|\n",
      "+---------+--------------------+-------+---------+--------------+--------------------+-------------+--------+\n",
      "|tt0000009|          Miss Jerry|      0|     1894|            45|             Romance|          5.4|     216|\n",
      "|tt0000147|The Corbett-Fitzs...|      0|     1897|           100|Documentary,News,...|          5.2|     544|\n",
      "|tt0000502|            Bohemios|      0|     1905|           100|                NULL|          4.4|      18|\n",
      "|tt0000574|The Story of the ...|      0|     1906|            70|Action,Adventure,...|          6.0|     952|\n",
      "|tt0000591|    The Prodigal Son|      0|     1907|            90|               Drama|          5.7|      29|\n",
      "|tt0000615|  Robbery Under Arms|      0|     1907|          NULL|               Drama|          4.3|      27|\n",
      "|tt0000630|              Hamlet|      0|     1908|          NULL|               Drama|          3.1|      30|\n",
      "|tt0000675|         Don Quijote|      0|     1908|          NULL|               Drama|          4.2|      22|\n",
      "|tt0000679|The Fairylogue an...|      0|     1908|           120|   Adventure,Fantasy|          5.2|      78|\n",
      "|tt0000862|          Faldgruben|      0|     1909|          NULL|                NULL|          4.4|      18|\n",
      "+---------+--------------------+-------+---------+--------------+--------------------+-------------+--------+\n",
      "only showing top 10 rows\n",
      "\n"
     ]
    }
   ],
   "source": [
    "movies_with_ratings.show(10)"
   ]
  },
  {
   "cell_type": "code",
   "execution_count": 6,
   "id": "1ceac241",
   "metadata": {},
   "outputs": [
    {
     "name": "stdout",
     "output_type": "stream",
     "text": [
      "+---------+--------------------+-----+\n",
      "|startyear|              genres|count|\n",
      "+---------+--------------------+-----+\n",
      "|     1894|             Romance|    1|\n",
      "|     1896|         Documentary|    1|\n",
      "|     1897|Documentary,News,...|    2|\n",
      "|     1898|         Documentary|    1|\n",
      "|     1899|Documentary,News,...|    2|\n",
      "|     1900|    Documentary,News|    1|\n",
      "|     1900|         Documentary|    1|\n",
      "|     1901|   Documentary,Sport|    1|\n",
      "|     1901|         Documentary|    1|\n",
      "|     1902|         Documentary|    1|\n",
      "|     1903|     Biography,Drama|    1|\n",
      "|     1903|         Documentary|    1|\n",
      "|     1904|         Documentary|    1|\n",
      "|     1905|               Music|    1|\n",
      "|     1905|                NULL|    4|\n",
      "|     1905|             Fantasy|    1|\n",
      "|     1905|         Documentary|    1|\n",
      "|     1905|               Drama|    1|\n",
      "|     1906|Documentary,News,...|    1|\n",
      "|     1906|                NULL|    3|\n",
      "+---------+--------------------+-----+\n",
      "only showing top 20 rows\n",
      "\n"
     ]
    }
   ],
   "source": [
    "movies_with_ratings.groupBy(\"startyear\", \"genres\").count().orderBy(\"startyear\").show()"
   ]
  },
  {
   "cell_type": "code",
   "execution_count": 8,
   "id": "c560f01e",
   "metadata": {
    "scrolled": true
   },
   "outputs": [
    {
     "name": "stdout",
     "output_type": "stream",
     "text": [
      "+--------------------+-----+\n",
      "|              genres|count|\n",
      "+--------------------+-----+\n",
      "|               Drama|54897|\n",
      "|         Documentary|34736|\n",
      "|              Comedy|26132|\n",
      "|                NULL|10796|\n",
      "|        Comedy,Drama|10291|\n",
      "|       Drama,Romance| 9842|\n",
      "|              Horror| 7818|\n",
      "|      Comedy,Romance| 5778|\n",
      "|            Thriller| 4987|\n",
      "|Comedy,Drama,Romance| 4852|\n",
      "|              Action| 4594|\n",
      "|         Crime,Drama| 4117|\n",
      "|      Drama,Thriller| 3358|\n",
      "|  Action,Crime,Drama| 3306|\n",
      "|             Romance| 3069|\n",
      "|        Action,Drama| 2760|\n",
      "|               Adult| 2648|\n",
      "|     Horror,Thriller| 2600|\n",
      "|             Western| 2505|\n",
      "|           Drama,War| 2148|\n",
      "+--------------------+-----+\n",
      "only showing top 20 rows\n",
      "\n"
     ]
    }
   ],
   "source": [
    "from pyspark.sql.functions import col\n",
    "\n",
    "movies_with_ratings.groupBy(\"genres\").count().orderBy(col(\"count\").desc()).show()\n"
   ]
  },
  {
   "cell_type": "code",
   "execution_count": 12,
   "id": "aecd1f79",
   "metadata": {},
   "outputs": [],
   "source": [
    "from pyspark.sql.functions import split, explode\n",
    "movies_with_ratings = movies_with_ratings.drop(\"genres_array\")\n"
   ]
  },
  {
   "cell_type": "markdown",
   "id": "fec3f31d",
   "metadata": {},
   "source": [
    "Creating a Start Schema with Dimension tables and Fact tables."
   ]
  },
  {
   "cell_type": "code",
   "execution_count": 13,
   "id": "bcd6a9be",
   "metadata": {},
   "outputs": [
    {
     "name": "stdout",
     "output_type": "stream",
     "text": [
      "+---------+--------------------+-------+---------+--------------+--------------------+-------------+--------+\n",
      "|   tconst|        primaryTitle|isAdult|startyear|runtimeMinutes|              genres|averageRating|numVotes|\n",
      "+---------+--------------------+-------+---------+--------------+--------------------+-------------+--------+\n",
      "|tt0000009|          Miss Jerry|      0|     1894|            45|             Romance|          5.4|     216|\n",
      "|tt0000147|The Corbett-Fitzs...|      0|     1897|           100|Documentary,News,...|          5.2|     544|\n",
      "|tt0000502|            Bohemios|      0|     1905|           100|                NULL|          4.4|      18|\n",
      "|tt0000574|The Story of the ...|      0|     1906|            70|Action,Adventure,...|          6.0|     952|\n",
      "|tt0000591|    The Prodigal Son|      0|     1907|            90|               Drama|          5.7|      29|\n",
      "|tt0000615|  Robbery Under Arms|      0|     1907|          NULL|               Drama|          4.3|      27|\n",
      "|tt0000630|              Hamlet|      0|     1908|          NULL|               Drama|          3.1|      30|\n",
      "|tt0000675|         Don Quijote|      0|     1908|          NULL|               Drama|          4.2|      22|\n",
      "|tt0000679|The Fairylogue an...|      0|     1908|           120|   Adventure,Fantasy|          5.2|      78|\n",
      "|tt0000862|          Faldgruben|      0|     1909|          NULL|                NULL|          4.4|      18|\n",
      "+---------+--------------------+-------+---------+--------------+--------------------+-------------+--------+\n",
      "only showing top 10 rows\n",
      "\n"
     ]
    }
   ],
   "source": [
    "movies_with_ratings.show(10)"
   ]
  },
  {
   "cell_type": "code",
   "execution_count": 15,
   "id": "8b13351c",
   "metadata": {},
   "outputs": [],
   "source": [
    "from pyspark.sql.functions import monotonically_increasing_id\n",
    "genres_exploded = movies_with_ratings.withColumn(\"genres_array\", split(col(\"genres\"), \",\"))\n",
    "genres_exploded = genres_exploded.withColumn(\"genre\", explode(col(\"genres_array\")))\n"
   ]
  },
  {
   "cell_type": "code",
   "execution_count": 17,
   "id": "d27343a6",
   "metadata": {},
   "outputs": [
    {
     "name": "stderr",
     "output_type": "stream",
     "text": [
      "25/01/17 11:54:18 WARN WindowExec: No Partition Defined for Window operation! Moving all data to a single partition, this can cause serious performance degradation.\n",
      "25/01/17 11:54:18 WARN WindowExec: No Partition Defined for Window operation! Moving all data to a single partition, this can cause serious performance degradation.\n",
      "25/01/17 11:54:18 WARN WindowExec: No Partition Defined for Window operation! Moving all data to a single partition, this can cause serious performance degradation.\n",
      "25/01/17 11:54:18 WARN WindowExec: No Partition Defined for Window operation! Moving all data to a single partition, this can cause serious performance degradation.\n",
      "25/01/17 11:54:18 WARN WindowExec: No Partition Defined for Window operation! Moving all data to a single partition, this can cause serious performance degradation.\n",
      "25/01/17 11:54:18 WARN WindowExec: No Partition Defined for Window operation! Moving all data to a single partition, this can cause serious performance degradation.\n"
     ]
    },
    {
     "name": "stdout",
     "output_type": "stream",
     "text": [
      "+---------+--------+\n",
      "|    genre|genre_id|\n",
      "+---------+--------+\n",
      "|   Action|       1|\n",
      "|    Adult|       2|\n",
      "|Adventure|       3|\n",
      "|Animation|       4|\n",
      "|Biography|       5|\n",
      "+---------+--------+\n",
      "only showing top 5 rows\n",
      "\n"
     ]
    }
   ],
   "source": [
    "from pyspark.sql.window import Window\n",
    "from pyspark.sql.functions import row_number\n",
    "\n",
    "window_spec = Window.orderBy(\"genre\")\n",
    "dim_genres = genres_exploded.select(\"genre\").distinct().withColumn(\"genre_id\", row_number().over(window_spec))\n",
    "dim_genres.show(5)"
   ]
  },
  {
   "cell_type": "code",
   "execution_count": 19,
   "id": "cee8070d",
   "metadata": {},
   "outputs": [
    {
     "name": "stderr",
     "output_type": "stream",
     "text": [
      "25/01/17 12:04:43 WARN WindowExec: No Partition Defined for Window operation! Moving all data to a single partition, this can cause serious performance degradation.\n",
      "25/01/17 12:04:43 WARN WindowExec: No Partition Defined for Window operation! Moving all data to a single partition, this can cause serious performance degradation.\n",
      "25/01/17 12:04:43 WARN WindowExec: No Partition Defined for Window operation! Moving all data to a single partition, this can cause serious performance degradation.\n",
      "25/01/17 12:04:43 WARN WindowExec: No Partition Defined for Window operation! Moving all data to a single partition, this can cause serious performance degradation.\n",
      "25/01/17 12:04:43 WARN WindowExec: No Partition Defined for Window operation! Moving all data to a single partition, this can cause serious performance degradation.\n",
      "25/01/17 12:04:43 WARN WindowExec: No Partition Defined for Window operation! Moving all data to a single partition, this can cause serious performance degradation.\n"
     ]
    },
    {
     "name": "stdout",
     "output_type": "stream",
     "text": [
      "+---------+-------+\n",
      "|startyear|year_id|\n",
      "+---------+-------+\n",
      "|     1894|      1|\n",
      "|     1896|      2|\n",
      "|     1897|      3|\n",
      "|     1898|      4|\n",
      "|     1899|      5|\n",
      "+---------+-------+\n",
      "only showing top 5 rows\n",
      "\n"
     ]
    }
   ],
   "source": [
    "window_spec = Window.orderBy(\"startyear\")\n",
    "\n",
    "dim_years = movies_with_ratings.select(\"startyear\").distinct() \\\n",
    "                               .withColumn(\"year_id\", row_number().over(window_spec))\n",
    "dim_years.show(5)"
   ]
  },
  {
   "cell_type": "code",
   "execution_count": 20,
   "id": "fd68c332",
   "metadata": {},
   "outputs": [
    {
     "name": "stdout",
     "output_type": "stream",
     "text": [
      "+---------+--------------------+\n",
      "| movie_id|        primaryTitle|\n",
      "+---------+--------------------+\n",
      "|tt0006481|   Die Börsenkönigin|\n",
      "|tt0008687|          Tom Sawyer|\n",
      "|tt0008735|The Vicar of Wake...|\n",
      "|tt0009273|The Lady of the D...|\n",
      "|tt0009289|      Lest We Forget|\n",
      "+---------+--------------------+\n",
      "only showing top 5 rows\n",
      "\n"
     ]
    }
   ],
   "source": [
    "dim_titles = movies_with_ratings.select(\"tconst\", \"primaryTitle\").distinct()\n",
    "dim_titles = dim_titles.withColumnRenamed(\"tconst\", \"movie_id\")\n",
    "dim_titles.show(5)"
   ]
  },
  {
   "cell_type": "code",
   "execution_count": 21,
   "id": "8aa3729d",
   "metadata": {},
   "outputs": [],
   "source": [
    "fact_movies = movies_with_ratings.join(dim_genres, movies_with_ratings[\"genres\"].contains(dim_genres[\"genre\"]), \"inner\")\n"
   ]
  },
  {
   "cell_type": "code",
   "execution_count": 22,
   "id": "f5b05d48",
   "metadata": {},
   "outputs": [],
   "source": [
    "fact_movies = fact_movies.join(dim_years, \"startyear\", \"inner\")"
   ]
  },
  {
   "cell_type": "code",
   "execution_count": 26,
   "id": "e9f53c8b",
   "metadata": {},
   "outputs": [
    {
     "data": {
      "text/plain": [
       "DataFrame[summary: string, startyear: string, tconst: string, primaryTitle: string, isAdult: string, runtimeMinutes: string, genres: string, averageRating: string, numVotes: string, genre: string, genre_id: string, year_id: string]"
      ]
     },
     "execution_count": 26,
     "metadata": {},
     "output_type": "execute_result"
    }
   ],
   "source": [
    "fact_movies.describe()"
   ]
  },
  {
   "cell_type": "code",
   "execution_count": 27,
   "id": "b8ab7de6",
   "metadata": {},
   "outputs": [
    {
     "name": "stderr",
     "output_type": "stream",
     "text": [
      "25/01/17 12:17:13 WARN WindowExec: No Partition Defined for Window operation! Moving all data to a single partition, this can cause serious performance degradation.\n",
      "25/01/17 12:17:13 WARN WindowExec: No Partition Defined for Window operation! Moving all data to a single partition, this can cause serious performance degradation.\n",
      "25/01/17 12:17:13 WARN WindowExec: No Partition Defined for Window operation! Moving all data to a single partition, this can cause serious performance degradation.\n",
      "25/01/17 12:17:13 WARN WindowExec: No Partition Defined for Window operation! Moving all data to a single partition, this can cause serious performance degradation.\n",
      "25/01/17 12:17:14 WARN WindowExec: No Partition Defined for Window operation! Moving all data to a single partition, this can cause serious performance degradation.\n",
      "25/01/17 12:17:14 WARN WindowExec: No Partition Defined for Window operation! Moving all data to a single partition, this can cause serious performance degradation.\n",
      "25/01/17 12:17:14 WARN WindowExec: No Partition Defined for Window operation! Moving all data to a single partition, this can cause serious performance degradation.\n",
      "25/01/17 12:17:14 WARN WindowExec: No Partition Defined for Window operation! Moving all data to a single partition, this can cause serious performance degradation.\n",
      "25/01/17 12:17:14 WARN WindowExec: No Partition Defined for Window operation! Moving all data to a single partition, this can cause serious performance degradation.\n",
      "25/01/17 12:17:14 WARN WindowExec: No Partition Defined for Window operation! Moving all data to a single partition, this can cause serious performance degradation.\n",
      "25/01/17 12:17:14 WARN WindowExec: No Partition Defined for Window operation! Moving all data to a single partition, this can cause serious performance degradation.\n",
      "25/01/17 12:17:14 WARN WindowExec: No Partition Defined for Window operation! Moving all data to a single partition, this can cause serious performance degradation.\n",
      "25/01/17 12:17:14 WARN WindowExec: No Partition Defined for Window operation! Moving all data to a single partition, this can cause serious performance degradation.\n",
      "25/01/17 12:17:14 WARN WindowExec: No Partition Defined for Window operation! Moving all data to a single partition, this can cause serious performance degradation.\n",
      "25/01/17 12:17:14 WARN WindowExec: No Partition Defined for Window operation! Moving all data to a single partition, this can cause serious performance degradation.\n",
      "25/01/17 12:17:14 WARN WindowExec: No Partition Defined for Window operation! Moving all data to a single partition, this can cause serious performance degradation.\n",
      "25/01/17 12:17:14 WARN WindowExec: No Partition Defined for Window operation! Moving all data to a single partition, this can cause serious performance degradation.\n",
      "25/01/17 12:17:14 WARN WindowExec: No Partition Defined for Window operation! Moving all data to a single partition, this can cause serious performance degradation.\n"
     ]
    },
    {
     "name": "stdout",
     "output_type": "stream",
     "text": [
      "+---------+----------+---------+-------+--------+-------+\n",
      "| movie_id|avg_rating|num_votes|runtime|genre_id|year_id|\n",
      "+---------+----------+---------+-------+--------+-------+\n",
      "|tt0000009|       5.4|      216|     45|      21|      1|\n",
      "|tt0000147|       5.2|      544|    100|       8|      3|\n",
      "|tt0000147|       5.2|      544|    100|      19|      3|\n",
      "|tt0000147|       5.2|      544|    100|      23|      3|\n",
      "|tt0000574|       6.0|      952|     70|       1|     12|\n",
      "+---------+----------+---------+-------+--------+-------+\n",
      "only showing top 5 rows\n",
      "\n"
     ]
    }
   ],
   "source": [
    "fact_movies = fact_movies.select(\n",
    "        col(\"tconst\").alias(\"movie_id\"),\n",
    "        col(\"averageRating\").alias(\"avg_rating\"),\n",
    "        col(\"numVotes\").alias(\"num_votes\"),\n",
    "        col(\"runtimeMinutes\").alias(\"runtime\"),\n",
    "        col(\"genre_id\"),\n",
    "        col(\"year_id\")\n",
    ")\n",
    "fact_movies.show(5)"
   ]
  },
  {
   "cell_type": "code",
   "execution_count": 28,
   "id": "fb097335",
   "metadata": {},
   "outputs": [
    {
     "name": "stderr",
     "output_type": "stream",
     "text": [
      "25/01/17 12:24:58 WARN WindowExec: No Partition Defined for Window operation! Moving all data to a single partition, this can cause serious performance degradation.\n",
      "25/01/17 12:24:58 WARN WindowExec: No Partition Defined for Window operation! Moving all data to a single partition, this can cause serious performance degradation.\n",
      "25/01/17 12:24:58 WARN WindowExec: No Partition Defined for Window operation! Moving all data to a single partition, this can cause serious performance degradation.\n",
      "25/01/17 12:24:58 WARN WindowExec: No Partition Defined for Window operation! Moving all data to a single partition, this can cause serious performance degradation.\n",
      "25/01/17 12:24:58 WARN WindowExec: No Partition Defined for Window operation! Moving all data to a single partition, this can cause serious performance degradation.\n",
      "25/01/17 12:24:58 WARN WindowExec: No Partition Defined for Window operation! Moving all data to a single partition, this can cause serious performance degradation.\n",
      "25/01/17 12:24:58 WARN WindowExec: No Partition Defined for Window operation! Moving all data to a single partition, this can cause serious performance degradation.\n",
      "25/01/17 12:24:58 WARN WindowExec: No Partition Defined for Window operation! Moving all data to a single partition, this can cause serious performance degradation.\n",
      "25/01/17 12:24:58 WARN WindowExec: No Partition Defined for Window operation! Moving all data to a single partition, this can cause serious performance degradation.\n",
      "25/01/17 12:24:58 WARN WindowExec: No Partition Defined for Window operation! Moving all data to a single partition, this can cause serious performance degradation.\n",
      "25/01/17 12:24:58 WARN WindowExec: No Partition Defined for Window operation! Moving all data to a single partition, this can cause serious performance degradation.\n",
      "25/01/17 12:24:58 WARN WindowExec: No Partition Defined for Window operation! Moving all data to a single partition, this can cause serious performance degradation.\n",
      "25/01/17 12:24:58 WARN WindowExec: No Partition Defined for Window operation! Moving all data to a single partition, this can cause serious performance degradation.\n",
      "25/01/17 12:24:58 WARN WindowExec: No Partition Defined for Window operation! Moving all data to a single partition, this can cause serious performance degradation.\n",
      "25/01/17 12:24:58 WARN WindowExec: No Partition Defined for Window operation! Moving all data to a single partition, this can cause serious performance degradation.\n",
      "25/01/17 12:24:58 WARN WindowExec: No Partition Defined for Window operation! Moving all data to a single partition, this can cause serious performance degradation.\n",
      "25/01/17 12:24:58 WARN WindowExec: No Partition Defined for Window operation! Moving all data to a single partition, this can cause serious performance degradation.\n",
      "25/01/17 12:24:58 WARN WindowExec: No Partition Defined for Window operation! Moving all data to a single partition, this can cause serious performance degradation.\n",
      "25/01/17 12:25:00 WARN WindowExec: No Partition Defined for Window operation! Moving all data to a single partition, this can cause serious performance degradation.\n",
      "25/01/17 12:25:00 WARN WindowExec: No Partition Defined for Window operation! Moving all data to a single partition, this can cause serious performance degradation.\n",
      "25/01/17 12:25:00 WARN WindowExec: No Partition Defined for Window operation! Moving all data to a single partition, this can cause serious performance degradation.\n",
      "25/01/17 12:25:00 WARN WindowExec: No Partition Defined for Window operation! Moving all data to a single partition, this can cause serious performance degradation.\n",
      "25/01/17 12:25:00 WARN WindowExec: No Partition Defined for Window operation! Moving all data to a single partition, this can cause serious performance degradation.\n",
      "25/01/17 12:25:00 WARN WindowExec: No Partition Defined for Window operation! Moving all data to a single partition, this can cause serious performance degradation.\n",
      "25/01/17 12:25:00 WARN WindowExec: No Partition Defined for Window operation! Moving all data to a single partition, this can cause serious performance degradation.\n",
      "25/01/17 12:25:00 WARN WindowExec: No Partition Defined for Window operation! Moving all data to a single partition, this can cause serious performance degradation.\n",
      "25/01/17 12:25:00 WARN WindowExec: No Partition Defined for Window operation! Moving all data to a single partition, this can cause serious performance degradation.\n",
      "25/01/17 12:25:00 WARN WindowExec: No Partition Defined for Window operation! Moving all data to a single partition, this can cause serious performance degradation.\n",
      "25/01/17 12:25:00 WARN WindowExec: No Partition Defined for Window operation! Moving all data to a single partition, this can cause serious performance degradation.\n",
      "25/01/17 12:25:00 WARN WindowExec: No Partition Defined for Window operation! Moving all data to a single partition, this can cause serious performance degradation.\n",
      "25/01/17 12:25:00 WARN WindowExec: No Partition Defined for Window operation! Moving all data to a single partition, this can cause serious performance degradation.\n",
      "25/01/17 12:25:00 WARN WindowExec: No Partition Defined for Window operation! Moving all data to a single partition, this can cause serious performance degradation.\n"
     ]
    }
   ],
   "source": [
    "fact_movies.write.parquet(\"fact_movies.parquet\")\n",
    "dim_genres.write.parquet(\"dim_genres.parquet\")\n",
    "dim_years.write.parquet(\"dim_years.parquet\")\n",
    "dim_titles.write.parquet(\"dim_titles.parquet\")"
   ]
  },
  {
   "cell_type": "code",
   "execution_count": 29,
   "id": "c3d1c0e1",
   "metadata": {},
   "outputs": [
    {
     "name": "stderr",
     "output_type": "stream",
     "text": [
      "25/01/17 13:23:08 WARN WindowExec: No Partition Defined for Window operation! Moving all data to a single partition, this can cause serious performance degradation.\n",
      "25/01/17 13:23:08 WARN WindowExec: No Partition Defined for Window operation! Moving all data to a single partition, this can cause serious performance degradation.\n",
      "25/01/17 13:23:08 WARN WindowExec: No Partition Defined for Window operation! Moving all data to a single partition, this can cause serious performance degradation.\n",
      "25/01/17 13:23:08 WARN WindowExec: No Partition Defined for Window operation! Moving all data to a single partition, this can cause serious performance degradation.\n",
      "25/01/17 13:23:08 WARN WindowExec: No Partition Defined for Window operation! Moving all data to a single partition, this can cause serious performance degradation.\n",
      "25/01/17 13:23:08 WARN WindowExec: No Partition Defined for Window operation! Moving all data to a single partition, this can cause serious performance degradation.\n",
      "25/01/17 13:23:08 WARN WindowExec: No Partition Defined for Window operation! Moving all data to a single partition, this can cause serious performance degradation.\n",
      "25/01/17 13:23:08 WARN WindowExec: No Partition Defined for Window operation! Moving all data to a single partition, this can cause serious performance degradation.\n",
      "25/01/17 13:23:09 WARN WindowExec: No Partition Defined for Window operation! Moving all data to a single partition, this can cause serious performance degradation.\n",
      "25/01/17 13:23:09 WARN WindowExec: No Partition Defined for Window operation! Moving all data to a single partition, this can cause serious performance degradation.\n",
      "25/01/17 13:23:09 WARN WindowExec: No Partition Defined for Window operation! Moving all data to a single partition, this can cause serious performance degradation.\n",
      "25/01/17 13:23:09 WARN WindowExec: No Partition Defined for Window operation! Moving all data to a single partition, this can cause serious performance degradation.\n",
      "25/01/17 13:23:09 WARN WindowExec: No Partition Defined for Window operation! Moving all data to a single partition, this can cause serious performance degradation.\n",
      "25/01/17 13:23:09 WARN WindowExec: No Partition Defined for Window operation! Moving all data to a single partition, this can cause serious performance degradation.\n",
      "25/01/17 13:23:09 WARN WindowExec: No Partition Defined for Window operation! Moving all data to a single partition, this can cause serious performance degradation.\n",
      "25/01/17 13:23:09 WARN WindowExec: No Partition Defined for Window operation! Moving all data to a single partition, this can cause serious performance degradation.\n"
     ]
    },
    {
     "name": "stdout",
     "output_type": "stream",
     "text": [
      "+---------+----------+---------+-------+--------+-------+\n",
      "| movie_id|avg_rating|num_votes|runtime|genre_id|year_id|\n",
      "+---------+----------+---------+-------+--------+-------+\n",
      "|tt0000009|       5.4|      216|     45|      21|      1|\n",
      "|tt0000147|       5.2|      544|    100|       8|      3|\n",
      "|tt0000147|       5.2|      544|    100|      19|      3|\n",
      "|tt0000147|       5.2|      544|    100|      23|      3|\n",
      "|tt0000574|       6.0|      952|     70|       1|     12|\n",
      "|tt0000574|       6.0|      952|     70|       3|     12|\n",
      "|tt0000574|       6.0|      952|     70|       5|     12|\n",
      "|tt0000591|       5.7|       29|     90|       9|     13|\n",
      "|tt0000615|       4.3|       27|   NULL|       9|     13|\n",
      "|tt0000630|       3.1|       30|   NULL|       9|     14|\n",
      "|tt0000675|       4.2|       22|   NULL|       9|     14|\n",
      "|tt0000679|       5.2|       78|    120|       3|     14|\n",
      "|tt0000679|       5.2|       78|    120|      11|     14|\n",
      "|tt0000886|       4.5|       39|   NULL|       9|     16|\n",
      "|tt0000941|       4.6|       29|     45|       9|     15|\n",
      "|tt0001028|       3.8|       23|   NULL|       6|     15|\n",
      "|tt0001049|       4.2|       19|   NULL|       9|     15|\n",
      "|tt0001049|       4.2|       19|   NULL|      26|     15|\n",
      "|tt0001112|       3.8|       50|   NULL|       9|     16|\n",
      "|tt0001115|       3.9|       20|   NULL|       7|     16|\n",
      "+---------+----------+---------+-------+--------+-------+\n",
      "only showing top 20 rows\n",
      "\n"
     ]
    }
   ],
   "source": [
    "fact_movies.show()"
   ]
  },
  {
   "cell_type": "code",
   "execution_count": 31,
   "id": "bce855bf",
   "metadata": {},
   "outputs": [],
   "source": [
    "spark.stop()"
   ]
  },
  {
   "cell_type": "code",
   "execution_count": null,
   "id": "20e5518b",
   "metadata": {},
   "outputs": [],
   "source": []
  }
 ],
 "metadata": {
  "kernelspec": {
   "display_name": "Python 3 (ipykernel)",
   "language": "python",
   "name": "python3"
  },
  "language_info": {
   "codemirror_mode": {
    "name": "ipython",
    "version": 3
   },
   "file_extension": ".py",
   "mimetype": "text/x-python",
   "name": "python",
   "nbconvert_exporter": "python",
   "pygments_lexer": "ipython3",
   "version": "3.12.3"
  }
 },
 "nbformat": 4,
 "nbformat_minor": 5
}
